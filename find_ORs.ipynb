{
 "cells": [
  {
   "cell_type": "markdown",
   "id": "68619d50-84ff-406b-91ce-c3683613dc53",
   "metadata": {},
   "source": [
    "# Import packages and data"
   ]
  },
  {
   "cell_type": "code",
   "execution_count": null,
   "id": "baa19982-2a34-418d-92b9-637ba5872f51",
   "metadata": {},
   "outputs": [],
   "source": [
    "import os\n",
    "import numpy as np\n",
    "import pandas as pd\n",
    "import datetime\n",
    "from pathlib import Path\n",
    "import scanpy as sc\n",
    "import re\n",
    "from pprint import pprint\n",
    "\n",
    "import matplotlib as mpl\n",
    "import matplotlib.pyplot as plt\n",
    "import cmocean\n",
    "import seaborn as sns\n",
    "from mpl_toolkits import mplot3d\n",
    "%matplotlib inline  \n",
    "\n",
    "sc.settings.verbosity = 4"
   ]
  },
  {
   "cell_type": "code",
   "execution_count": null,
   "id": "00ef713b-0f07-43f3-bb09-69b7b54eadb4",
   "metadata": {},
   "outputs": [],
   "source": [
    "adata=sc.read_h5ad('COVID_dataset_scvi_1.h5ad')"
   ]
  },
  {
   "cell_type": "markdown",
   "id": "01ff525d-f971-4607-96a1-536eb2d0f2e1",
   "metadata": {},
   "source": [
    "# Get OR info per cell"
   ]
  },
  {
   "cell_type": "code",
   "execution_count": null,
   "id": "e71ee6ae-3174-4ad1-867d-b675b17d615f",
   "metadata": {},
   "outputs": [],
   "source": [
    "def get_name(s):\n",
    "    genes = [x.split(\" \")[-1].strip('\"') for x in s.split(\";\") if \"gene_name\" in x]\n",
    "    if len(genes) > 1:\n",
    "        raise ValueError(\"Found multiple genes\")\n",
    "    if len(genes) > 0:\n",
    "        return genes[0]"
   ]
  },
  {
   "cell_type": "code",
   "execution_count": null,
   "id": "a0a2fc4c-e448-4859-b847-d2af4868d5e0",
   "metadata": {},
   "outputs": [],
   "source": [
    "gtf = pd.read_table(\n",
    "    \"https://static-content.springer.com/esm/art%3A10.1186%2Fs12864-020-6583-3/MediaObjects/12864_2020_6583_MOESM5_ESM.txt\",\n",
    "    sep=\"\\t\",\n",
    "    comment=\"#\",\n",
    "    header=None,\n",
    ")\n",
    "gtf[\"gene\"] = gtf[8].apply(get_name)\n",
    "print(gtf[\"gene\"].nunique())"
   ]
  },
  {
   "cell_type": "code",
   "execution_count": null,
   "id": "51a785f5-820b-4023-876e-a4501005bf41",
   "metadata": {},
   "outputs": [],
   "source": [
    "human_anno = pd.read_excel(\n",
    "    \"https://static-content.springer.com/esm/art%3A10.1186%2Fs12864-020-6583-3/MediaObjects/12864_2020_6583_MOESM2_ESM.xlsx\",\n",
    "    sheet_name=0,\n",
    ")\n",
    "human_anno.columns = human_anno.columns.map(lambda l: l.replace(\" \", \"_\").lower())\n",
    "\n",
    "bm_human = (\n",
    "    human_anno[[\"gene_symbol\", \"gene_name\", \"chromosome\", \"strand\", \"ensembl_gene_id\"]]\n",
    "    .drop_duplicates()\n",
    "    .reset_index(drop=True)\n",
    "    .set_index(\"gene_symbol\")\n",
    ")\n",
    "\n",
    "ct = (\n",
    "    human_anno[human_anno.gene_symbol.isin(bm_human.index)]\n",
    "    .groupby(\"gene_symbol\")\n",
    "    .transcript_biotype.value_counts()\n",
    "    .unstack()\n",
    "    .replace(np.nan, 0)\n",
    ")\n",
    "\n",
    "bm_human = bm_human.join(ct[[\"protein_coding\", \"unprocessed_pseudogene\"]])\n",
    "print(bm_human.protein_coding.value_counts())\n",
    "\n",
    "func_human = bm_human[[\"ensembl_gene_id\"]].reset_index()\n",
    "func_human.columns = [\"gene\", \"Ens\"]"
   ]
  },
  {
   "cell_type": "code",
   "execution_count": null,
   "id": "ec8a2f12-be36-4709-abae-1c529487b7f3",
   "metadata": {},
   "outputs": [],
   "source": [
    "is_olfr = adata.var.gene_ids.isin(bm_human.ensembl_gene_id)\n",
    "print(is_olfr.sum())\n",
    "adata.obs[\"olfr_max\"] = adata.X[:, is_olfr].max(1).A.flatten()\n",
    "\n",
    "adata.var[is_olfr].nlargest(10, \"total_counts\")"
   ]
  },
  {
   "cell_type": "code",
   "execution_count": null,
   "id": "84f8043b-9f1d-4c17-8c07-ca5c21ba3392",
   "metadata": {},
   "outputs": [],
   "source": [
    "is_OR_mt_gene = (adata.var.mito) | (adata.var.ribo) | (is_olfr)"
   ]
  },
  {
   "cell_type": "code",
   "execution_count": null,
   "id": "823c83cf-3bc3-4bd4-8400-bc6ae05bef54",
   "metadata": {},
   "outputs": [],
   "source": [
    "sc.pl.scatter(adata, x='total_counts', y='n_genes')\n",
    "plt.hist(adata.obs.n_genes, bins=100, lw=0, log=True);\n",
    "plt.axvline(250, ls=\"--\", color=\"red\")"
   ]
  }
 ],
 "metadata": {
  "kernelspec": {
   "display_name": "jbf18_env",
   "language": "python",
   "name": "jbf18_env"
  },
  "language_info": {
   "codemirror_mode": {
    "name": "ipython",
    "version": 3
   },
   "file_extension": ".py",
   "mimetype": "text/x-python",
   "name": "python",
   "nbconvert_exporter": "python",
   "pygments_lexer": "ipython3",
   "version": "3.10.6"
  }
 },
 "nbformat": 4,
 "nbformat_minor": 5
}
