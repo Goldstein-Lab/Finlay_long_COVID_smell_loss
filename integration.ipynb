{
 "cells": [
  {
   "cell_type": "markdown",
   "id": "a8f76f08-8004-452c-a7bb-9d19773a5ff2",
   "metadata": {},
   "source": [
    "# Import Packages"
   ]
  },
  {
   "cell_type": "code",
   "execution_count": null,
   "id": "029fad8b-9ef0-4d51-8d39-eb2531303b91",
   "metadata": {},
   "outputs": [],
   "source": [
    "import os\n",
    "import numpy as np\n",
    "import pandas as pd\n",
    "import datetime\n",
    "from pathlib import Path\n",
    "import scanpy as sc\n",
    "import re\n",
    "from pprint import pprint\n",
    "\n",
    "from natsort import natsorted\n",
    "\n",
    "from sklearn import metrics\n",
    "from sklearn.preprocessing import LabelEncoder, StandardScaler\n",
    "from sklearn.decomposition import PCA\n",
    "import umap\n",
    "\n",
    "from tqdm.auto import tqdm, trange\n",
    "\n",
    "from copy import deepcopy\n",
    "\n",
    "from scipy import stats, linalg\n",
    "\n",
    "import matplotlib as mpl\n",
    "import matplotlib.pyplot as plt\n",
    "import cmocean\n",
    "import seaborn as sns\n",
    "from mpl_toolkits import mplot3d\n",
    "%matplotlib inline  \n",
    "\n",
    "sc.settings.verbosity = 4"
   ]
  },
  {
   "cell_type": "code",
   "execution_count": null,
   "id": "dbba3b86-234e-4859-b5ff-b1bdae66cce3",
   "metadata": {},
   "outputs": [],
   "source": [
    "import scvi\n",
    "from scvi.model.utils import mde\n",
    "\n",
    "scvi.settings.verbosity = 40"
   ]
  },
  {
   "cell_type": "code",
   "execution_count": null,
   "id": "4f1ecc1e-730f-4e71-892f-e3fc26203bcc",
   "metadata": {},
   "outputs": [],
   "source": [
    "n_dims = 16\n",
    "HVG_THRESH = 0.9\n",
    "HVG_KEY = \"sig\"\n",
    "P2 = \"Olfr17\"\n",
    "MITO_PCT = 40"
   ]
  },
  {
   "cell_type": "markdown",
   "id": "afa3b3c0-65ff-47fe-b266-1506b276a698",
   "metadata": {},
   "source": [
    "# Read in data"
   ]
  },
  {
   "cell_type": "code",
   "execution_count": null,
   "id": "ea584eb0-e6ed-4736-a974-dcf3661d5a96",
   "metadata": {},
   "outputs": [],
   "source": [
    "adata=sc.read_h5ad('Concat_dataset.h5ad')"
   ]
  },
  {
   "cell_type": "markdown",
   "id": "85ad489f-9113-442a-87a3-93e12739e0ef",
   "metadata": {},
   "source": [
    "# HVG via scanpy"
   ]
  },
  {
   "cell_type": "code",
   "execution_count": null,
   "id": "4c25af72-7c85-40bb-84f3-d4a82b7c072b",
   "metadata": {},
   "outputs": [],
   "source": [
    "sc.pp.highly_variable_genes(\n",
    "    adata,\n",
    "    n_top_genes=3000,\n",
    "    subset=False,\n",
    "    layer=\"counts\",\n",
    "    flavor=\"seurat_v3\",\n",
    "    batch_key=\"orig_ident\"\n",
    ")"
   ]
  },
  {
   "cell_type": "code",
   "execution_count": null,
   "id": "7b06131a-7296-4fb8-8694-7978e06a8635",
   "metadata": {},
   "outputs": [],
   "source": [
    "adata.var['mean_'] = np.array(adata.X.mean(0))[0]\n",
    "adata.var['frac_zero'] = 1 - np.array((adata.X > 0).sum(0))[0] / adata.shape[0]"
   ]
  },
  {
   "cell_type": "code",
   "execution_count": null,
   "id": "60fdb0b6-36b2-4cb2-be9f-9d83b69198b4",
   "metadata": {},
   "outputs": [],
   "source": [
    "fig, ax = plt.subplots(figsize=(9,6))\n",
    "\n",
    "ax.scatter(adata.var.mean_, adata.var.frac_zero, s=1)\n",
    "ax.set_xscale(\"log\")"
   ]
  },
  {
   "cell_type": "code",
   "execution_count": null,
   "id": "c972ff23-5c00-438d-9ae9-ed88f2d9c2a6",
   "metadata": {},
   "outputs": [],
   "source": [
    "df_poisson = scvi.data.poisson_gene_selection(\n",
    "    adata, n_top_genes=3_000, batch_key=\"orig_ident\", inplace=False\n",
    ")"
   ]
  },
  {
   "cell_type": "code",
   "execution_count": null,
   "id": "5b1b132a-8bf5-4095-88cf-25feae510872",
   "metadata": {},
   "outputs": [],
   "source": [
    "df_poisson[df_poisson.highly_variable].sort_values('prob_zero_enrichment_rank')"
   ]
  },
  {
   "cell_type": "code",
   "execution_count": null,
   "id": "56e38e87-c631-4d87-8793-93a9db1a9081",
   "metadata": {},
   "outputs": [],
   "source": [
    "pd.crosstab(df_poisson.highly_variable, adata.var.highly_variable)"
   ]
  },
  {
   "cell_type": "code",
   "execution_count": null,
   "id": "b46e6cbb-a1d8-4bc5-be96-cfad14ba62b4",
   "metadata": {},
   "outputs": [],
   "source": [
    "is_hvg = df_poisson.highly_variable"
   ]
  },
  {
   "cell_type": "code",
   "execution_count": null,
   "id": "8b29d00a-f5a9-48af-a6ea-f98423113584",
   "metadata": {},
   "outputs": [],
   "source": [
    "adata.varm['df_poisson']= df_poisson"
   ]
  },
  {
   "cell_type": "code",
   "execution_count": null,
   "id": "d6c8f781-2d7e-46af-8c75-c3d0755ad961",
   "metadata": {},
   "outputs": [],
   "source": [
    "adata_query = adata[:, is_hvg].copy()\n",
    "print(adata_query)"
   ]
  },
  {
   "cell_type": "markdown",
   "id": "5b80eed8-685b-42b8-b102-087759df1d69",
   "metadata": {},
   "source": [
    "# Fit scvi model"
   ]
  },
  {
   "cell_type": "code",
   "execution_count": null,
   "id": "ae0dce62-02bb-4ed5-9573-a913457dda78",
   "metadata": {},
   "outputs": [],
   "source": [
    "scvi.model.SCVI.setup_anndata(\n",
    "    adata_query,\n",
    "    layer=\"counts\",\n",
    "    categorical_covariate_keys=[\"cond\", \"orig_ident\"],\n",
    "    continuous_covariate_keys=[\"pct_counts_mito\"]\n",
    ")"
   ]
  },
  {
   "cell_type": "code",
   "execution_count": null,
   "id": "ea2f1130-9d5e-4119-a704-a7d7144d87a0",
   "metadata": {},
   "outputs": [],
   "source": [
    "model = scvi.model.SCVI(adata_query, gene_likelihood=\"nb\")"
   ]
  },
  {
   "cell_type": "code",
   "execution_count": null,
   "id": "e1fa4e14-55c7-4688-ac95-241f900b83bb",
   "metadata": {},
   "outputs": [],
   "source": [
    "model.view_anndata_setup()"
   ]
  },
  {
   "cell_type": "code",
   "execution_count": null,
   "id": "cd079292-38ef-4586-b1f3-a6a4af4fac42",
   "metadata": {},
   "outputs": [],
   "source": [
    "train_kwargs = dict(\n",
    "    early_stopping=True,\n",
    "    early_stopping_patience=20,\n",
    "    enable_model_summary=True,\n",
    "    enable_progress_bar=True,\n",
    "    enable_checkpointing=True,\n",
    "    max_epochs=500\n",
    ")"
   ]
  },
  {
   "cell_type": "code",
   "execution_count": null,
   "id": "6c74ebaa-62a8-4f42-b49c-52374b26e7a5",
   "metadata": {},
   "outputs": [],
   "source": [
    "model.train(**train_kwargs)"
   ]
  },
  {
   "cell_type": "code",
   "execution_count": null,
   "id": "435acfa7-e76f-42ae-95cc-127ca739f622",
   "metadata": {},
   "outputs": [],
   "source": [
    "train_elbo = model.history['elbo_train'][1:]\n",
    "test_elbo = model.history['elbo_validation']\n",
    "\n",
    "ax = train_elbo.plot()\n",
    "test_elbo.plot(ax = ax)"
   ]
  },
  {
   "cell_type": "code",
   "execution_count": null,
   "id": "6ee4ea4c-c9e2-4841-956f-7f8d5843acf3",
   "metadata": {},
   "outputs": [],
   "source": [
    "# save model\n",
    "model.save(\"scvi_model\")"
   ]
  },
  {
   "cell_type": "code",
   "execution_count": null,
   "id": "fabc10a4-3e44-49c3-9878-51352ab8a918",
   "metadata": {},
   "outputs": [],
   "source": [
    "latent = model.get_latent_representation()"
   ]
  },
  {
   "cell_type": "code",
   "execution_count": null,
   "id": "52a564d9-f994-4af7-aa30-bff687cff530",
   "metadata": {},
   "outputs": [],
   "source": [
    "adata.obsm[\"X_scVI\"] = latent"
   ]
  },
  {
   "cell_type": "code",
   "execution_count": null,
   "id": "b93dc129-b323-4792-a691-9cfc0cb4f314",
   "metadata": {},
   "outputs": [],
   "source": [
    "sc.pp.neighbors(adata, use_rep=\"X_scVI\")\n",
    "sc.tl.umap(adata, min_dist=0.5)"
   ]
  },
  {
   "cell_type": "code",
   "execution_count": null,
   "id": "90f7ccdc-6daa-49e1-925a-bcd170436b5e",
   "metadata": {},
   "outputs": [],
   "source": [
    "# neighbors were already computed using scVI\n",
    "sc.tl.leiden(adata, key_added=\"leiden_scVI_1.2\", resolution=1.2)"
   ]
  },
  {
   "cell_type": "markdown",
   "id": "c193f6ea-866b-4e15-b34d-ac2ccef7b32d",
   "metadata": {},
   "source": [
    "# QC analysis"
   ]
  },
  {
   "cell_type": "code",
   "execution_count": null,
   "id": "4a342279-cfca-4b66-aede-cca594fcc242",
   "metadata": {},
   "outputs": [],
   "source": [
    "sc.pl.umap(\n",
    "    adata,\n",
    "    color=[\"n_genes\", \"total_counts\", \"pct_counts_mito\", \"log1p_total_counts\"],\n",
    "    cmap=\"cubehelix_r\",\n",
    "    s=3,\n",
    "    ncols=2,\n",
    ")"
   ]
  },
  {
   "cell_type": "code",
   "execution_count": null,
   "id": "cedc0400-fa63-4659-92da-b791ef029fa0",
   "metadata": {},
   "outputs": [],
   "source": [
    "fig, ax = plt.subplots(figsize=(12, 8))\n",
    "sc.pl.umap(adata, color=\"orig_ident\", cmap=\"cmo.matter\", s=3, ax=ax, vmax=\"p99.99\")"
   ]
  },
  {
   "cell_type": "code",
   "execution_count": null,
   "id": "dafa4471-8ce8-4f0a-bbdc-5af0f2b72c5f",
   "metadata": {},
   "outputs": [],
   "source": [
    "fig, ax = plt.subplots(figsize=(12, 8))\n",
    "sc.pl.umap(adata, color=\"cond\", cmap=\"cmo.matter\", s=3, ax=ax, vmax=\"p99.99\")"
   ]
  },
  {
   "cell_type": "code",
   "execution_count": null,
   "id": "6e62c88a-d1e5-499a-9324-49a13d06e68a",
   "metadata": {},
   "outputs": [],
   "source": [
    "fig, ax = plt.subplots(figsize=(12, 8))\n",
    "sc.pl.umap(adata, color=\"leiden_scVI_1.2\", legend_loc=\"on data\", ax=ax, s=3)"
   ]
  },
  {
   "cell_type": "code",
   "execution_count": null,
   "id": "1799a792-777a-4848-99bc-b9724bbe8d5b",
   "metadata": {},
   "outputs": [],
   "source": [
    "#Analyze expression of given genes in global UMAP\n",
    "\n",
    "#For example\n",
    "genes = [\"CXCL14\", \"MEG3\", \"TP63\", \"TOP2A\", \"SERPINB3\", \"SOX9\",\n",
    "         \"ERMN\", \"ACSM4\", \"CFTR\", \"SH2D7\", \"LHX2\", \"STOML3\", \"PLP1\",\n",
    "         \"CD3D\", \"FGFBP2\", \"CD79A\", \"S100A12\", \"CD14\", \"C1QB\", \"TPSB2\",\n",
    "         \"HBB\", \"ENG\", \"DCN\", \"ACTA2\"]\n",
    "\n",
    "sc.pl.umap(\n",
    "    adata,\n",
    "    color=genes,\n",
    "    use_raw=False,\n",
    "    cmap=\"cmo.matter\",\n",
    "    ncols=3,\n",
    "    frameon=False,\n",
    "    vmax=\"p99.9\",\n",
    "    layer=\"norm\"\n",
    ")"
   ]
  },
  {
   "cell_type": "code",
   "execution_count": null,
   "id": "a678068c-e28c-4aae-a552-363f6d6941e0",
   "metadata": {},
   "outputs": [],
   "source": [
    "adata_query.obs['cluster'] = adata.obs[\"leiden_scVI_1.1\"].copy()"
   ]
  },
  {
   "cell_type": "code",
   "execution_count": null,
   "id": "38fa2451-8ab8-4765-af81-8b7a7f3f41bb",
   "metadata": {},
   "outputs": [],
   "source": [
    "#log1p total counts\n",
    "fig, ax = plt.subplots(figsize=(18,6))\n",
    "sns.boxenplot(data=adata_query.obs, x=\"cluster\", y=\"log1p_total_counts\", ax=ax)"
   ]
  },
  {
   "cell_type": "code",
   "execution_count": null,
   "id": "47b63155-d085-45a9-8989-b879c8f0fef8",
   "metadata": {},
   "outputs": [],
   "source": [
    "#Pct counts mito\n",
    "fig, ax = plt.subplots(figsize=(18,6))\n",
    "sns.boxenplot(data=adata_query.obs, x=\"cluster\", y=\"pct_counts_mito\", ax=ax)"
   ]
  },
  {
   "cell_type": "code",
   "execution_count": null,
   "id": "d6f91baa-948a-48f3-b1a0-57f0f41d46ee",
   "metadata": {},
   "outputs": [],
   "source": [
    "#Identify poor quality clusters\n",
    "\n",
    "#For example\n",
    "bad_clust = [\"40\", \"42\"]\n",
    "\n",
    "in_bad_clust = adata.obs[\"leiden_scVI_1.1\"].isin(bad_clust)\n",
    "\n",
    "fig, ax = plt.subplots(figsize=(12, 8))\n",
    "xu, yu = adata.obsm[\"X_umap\"].T\n",
    "ax.scatter(xu, yu, s=0.1, color=\"0.7\")\n",
    "ax.scatter(xu[in_bad_clust], yu[in_bad_clust], s=0.1)"
   ]
  },
  {
   "cell_type": "code",
   "execution_count": null,
   "id": "2a96262e-a5a3-4960-b3af-0668a047abca",
   "metadata": {},
   "outputs": [],
   "source": [
    "#Run DE on poor quality clusters to determine possible identity\n",
    "adata_query.obs[\"clusters2\"] = adata.obs[\"leiden_scVI_1.1\"].copy()\n",
    "\n",
    "df_de = model.differential_expression(adata_query, groupby=\"clusters2\", group1=\"42\")"
   ]
  },
  {
   "cell_type": "code",
   "execution_count": null,
   "id": "0e9302fd-af18-441c-95a6-76fbda923405",
   "metadata": {},
   "outputs": [],
   "source": [
    "df_de[df_de.lfc_mean > 0].head(20)"
   ]
  },
  {
   "cell_type": "code",
   "execution_count": null,
   "id": "5be7f578-2f74-403d-a6ba-129797c0744b",
   "metadata": {},
   "outputs": [],
   "source": [
    "#Based on above QC metrics data, remove confirmed poor quality cell clusters\n",
    "to_keep = (\n",
    "    (~adata_all.obs[\"leiden_scVI_1.1\"].isin(bad_clust))\n",
    "    & (adata_all.obs.pct_counts_mito <= MITO_PCT)\n",
    ")\n",
    "\n",
    "print(to_keep.sum())\n",
    "print(to_keep.mean())"
   ]
  },
  {
   "cell_type": "code",
   "execution_count": null,
   "id": "9373c446-423b-422a-b4e2-58f6145e5b91",
   "metadata": {},
   "outputs": [],
   "source": [
    "adata_f = adata[to_keep].copy()"
   ]
  },
  {
   "cell_type": "code",
   "execution_count": null,
   "id": "9c67e337-7b94-493b-a88a-6d8c73fa5e59",
   "metadata": {},
   "outputs": [],
   "source": [
    "adata_f.write('COVID_dataset_scvi_1.h5ad')"
   ]
  },
  {
   "cell_type": "markdown",
   "id": "adf8b0f0-c656-4a3f-b91b-1695a87652c0",
   "metadata": {},
   "source": [
    "From here can iteratively re-train and run a new model starting from the HVG via Scanpy step to eliminate all low quality cells.\n",
    "\n",
    "Each time clusters of interest were subset out, the model was re-trained and re-run to allow for optimal clustering."
   ]
  },
  {
   "cell_type": "code",
   "execution_count": null,
   "id": "a408c69d-5c5b-4967-b8c7-dc9b249340f5",
   "metadata": {},
   "outputs": [],
   "source": []
  }
 ],
 "metadata": {
  "kernelspec": {
   "display_name": "jbf18_env",
   "language": "python",
   "name": "jbf18_env"
  },
  "language_info": {
   "codemirror_mode": {
    "name": "ipython",
    "version": 3
   },
   "file_extension": ".py",
   "mimetype": "text/x-python",
   "name": "python",
   "nbconvert_exporter": "python",
   "pygments_lexer": "ipython3",
   "version": "3.10.6"
  }
 },
 "nbformat": 4,
 "nbformat_minor": 5
}
