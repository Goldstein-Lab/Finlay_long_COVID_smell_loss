{
 "cells": [
  {
   "cell_type": "markdown",
   "id": "6a682da1-39f9-411b-ab60-e515d330de76",
   "metadata": {},
   "source": [
    "# Import Required Packages"
   ]
  },
  {
   "cell_type": "code",
   "execution_count": null,
   "id": "3b63055c-be8e-4f09-9283-e0c9afca9d76",
   "metadata": {},
   "outputs": [],
   "source": [
    "import os\n",
    "import numpy as np\n",
    "import pandas as pd\n",
    "import datetime\n",
    "from pathlib import Path\n",
    "import scanpy as sc\n",
    "import re\n",
    "from pprint import pprint\n",
    "\n",
    "from natsort import natsorted\n",
    "\n",
    "from copy import deepcopy\n",
    "\n",
    "from scipy import stats, linalg\n",
    "\n",
    "import matplotlib as mpl\n",
    "import matplotlib.pyplot as plt\n",
    "import cmocean\n",
    "import seaborn as sns\n",
    "from mpl_toolkits import mplot3d\n",
    "%matplotlib inline  \n",
    "\n",
    "sc.settings.verbosity = 4"
   ]
  },
  {
   "cell_type": "markdown",
   "id": "5a28061e-4200-41db-aed0-f0bbe24f82ac",
   "metadata": {},
   "source": [
    "# Read in Cell Ranger Counts Data"
   ]
  },
  {
   "cell_type": "code",
   "execution_count": null,
   "id": "01c9ef08-a476-4719-923e-25070938dd77",
   "metadata": {},
   "outputs": [],
   "source": [
    "fin_folder = Path(\"/n/groups/COVID/Finlay\")\n",
    "cell_folder = fin_folder / \"cell_ranger_output\"\n",
    "\n",
    "outs = sorted(cell_folder.rglob(\"*filtered_feature_bc_matrix\"))\n",
    "outs"
   ]
  },
  {
   "cell_type": "code",
   "execution_count": null,
   "id": "c479b3eb-5c0b-442d-9f92-947ee518e403",
   "metadata": {},
   "outputs": [],
   "source": [
    "new_adatas = []\n",
    "for f in tqdm(outs):\n",
    "    s = f.parents[0].stem.replace(\"-\", \"_\")\n",
    "    print(s)\n",
    "    _adata = sc.read_10x_mtx(f, cache=True)\n",
    "    _adata.obs[\"orig_ident\"] = s\n",
    "    _adata.obs_names = s + \"_\" + _adata.obs_names\n",
    "    _adata.var = _adata.var.reset_index().set_index('gene_ids')\n",
    "    new_adatas.append(_adata)"
   ]
  },
  {
   "cell_type": "code",
   "execution_count": null,
   "id": "492abd01-a174-4133-ae85-9f805607c5d1",
   "metadata": {},
   "outputs": [],
   "source": [
    "#Concatenate adata objects\n",
    "new_adata = new_adatas[0].concatenate(new_adatas[1:], index_unique=None, join=\"outer\")\n",
    "assert (new_adata.obs_names.map(lambda l: \"_\".join(l.split(\"_\")[:-1])) == new_adata.obs.orig_ident).all()\n",
    "new_adata.obs_names_make_unique()\n",
    "print(new_adata)"
   ]
  },
  {
   "cell_type": "code",
   "execution_count": null,
   "id": "b070c962-5c53-4725-961f-16fff46ed383",
   "metadata": {},
   "outputs": [],
   "source": [
    "#Can specify disease condition (ie COVID PASC, normosmic, etc) here\n",
    "#For example:\n",
    "\n",
    "new_adata.obs[\"orig_ident\"] = new_adata.obs.orig_ident.apply(lambda s: re.split(\"COVID_\", s)[1])\n",
    "\n",
    "cond_mapping = {\n",
    "    \"COVID_1\": \"covid\"}\n",
    "\n",
    "new_adata.obs[\"cond\"] = new_adata.obs.orig_ident.map(cond_mapping)\n",
    "assert not new_adata.obs.cond.isnull().any()\n",
    "\n",
    "new_adata.obs.groupby([\"cond\", \"patient\"]).orig_ident.value_counts()\n",
    "\n",
    "adata=new_adatas"
   ]
  },
  {
   "cell_type": "markdown",
   "id": "6c2c6d62-5470-4af1-ac12-33c80998c0e8",
   "metadata": {},
   "source": [
    "# Preprocess Data"
   ]
  },
  {
   "cell_type": "code",
   "execution_count": null,
   "id": "d707c561-76d0-4327-beae-8d49acb10293",
   "metadata": {},
   "outputs": [],
   "source": [
    "#Filter out genes detected in <1 cell\n",
    "gene_names = adata.var[\"index-0-0\"].copy()\n",
    "gene_names.name = None\n",
    "gene_null = gene_names.isnull()\n",
    "print(gene_null.sum())\n",
    "gene_names[gene_null] = adata.var[\"index-1-0\"][gene_null]\n",
    "assert not gene_names.isnull().any()\n",
    "adata.var = pd.DataFrame(adata.var_names, index=gene_names)\n",
    "adata.var_names_make_unique()\n",
    "print(adata)"
   ]
  },
  {
   "cell_type": "code",
   "execution_count": null,
   "id": "12b65484-04e6-49b0-8541-4d12bf30b658",
   "metadata": {},
   "outputs": [],
   "source": [
    "#Run QC metrics, mainly for genes\n",
    "adata.var[\"mito\"] = adata.var_names.str.contains(\"^MT-\")\n",
    "adata.var[\"ribo\"] = adata.var_names.str.contains(\"^RP[LS]\")\n",
    "adata.var[\"total_counts\"] = adata.X.sum(0).A.flatten()\n",
    "adata.var[\"n_cells\"] = (adata.X > 0).sum(0).A.flatten()\n",
    "adata.var['mean_expr'] = adata.X.mean(0).A.flatten()"
   ]
  },
  {
   "cell_type": "code",
   "execution_count": null,
   "id": "971c433c-3318-414c-b7a1-3cf30dc21f28",
   "metadata": {},
   "outputs": [],
   "source": [
    "adata.obs[\"total_counts\"] = adata.X.sum(1).A.flatten()\n",
    "adata.obs[\"log1p_total_counts\"] = np.log1p(adata.obs[\"total_counts\"])\n",
    "adata.obs[\"n_genes\"] = (adata.X > 0).sum(1).A.flatten()\n",
    "adata.obs[\"pct_counts_mito\"] = (\n",
    "    adata.X[:, adata.var[\"mito\"]].sum(1).A.flatten() / adata.obs[\"total_counts\"] * 100\n",
    ")"
   ]
  },
  {
   "cell_type": "code",
   "execution_count": null,
   "id": "988ba547-7abd-4557-a35d-063b73e6fb15",
   "metadata": {},
   "outputs": [],
   "source": [
    "#Plot QC metrics\n",
    "df = adata.obs\n",
    "fig, ax = plt.subplots(figsize=(12,8))\n",
    "sns.boxenplot(data=df, x=\"orig_ident\", hue=\"cond\",\n",
    "              y=\"total_counts\", dodge=False, ax=ax, order=np.unique(df.orig_ident))\n",
    "plt.xticks(rotation=90)\n",
    "ax.legend(loc=\"upper left\", bbox_to_anchor=(1,1))\n",
    "ax.set_yscale(\"log\")\n",
    "sns.despine()\n",
    "fig, ax = plt.subplots(figsize=(12,8))\n",
    "sns.boxenplot(data=df, x=\"orig_ident\", hue=\"cond\",\n",
    "              y=\"pct_counts_mito\", dodge=False, ax=ax, order=np.unique(df.orig_ident))\n",
    "plt.xticks(rotation=90)\n",
    "ax.legend(loc=\"upper left\", bbox_to_anchor=(1,1))\n",
    "sns.despine()"
   ]
  },
  {
   "cell_type": "code",
   "execution_count": null,
   "id": "bf530196-5168-4845-b597-93da41e6c9bd",
   "metadata": {},
   "outputs": [],
   "source": [
    "adata.layers[\"counts\"] = adata.X.copy()\n",
    "adata.layers[\"norm\"] = adata.X.copy()\n",
    "sc.pp.normalize_total(adata, target_sum=1e4, layer=\"norm\")"
   ]
  },
  {
   "cell_type": "code",
   "execution_count": null,
   "id": "da86a648-eba4-4bca-93bc-7fcee22a19bd",
   "metadata": {},
   "outputs": [],
   "source": [
    "#Save anndata object\n",
    "adata.write('Concat_dataset.h5ad')"
   ]
  }
 ],
 "metadata": {
  "kernelspec": {
   "display_name": "jbf18_env",
   "language": "python",
   "name": "jbf18_env"
  },
  "language_info": {
   "codemirror_mode": {
    "name": "ipython",
    "version": 3
   },
   "file_extension": ".py",
   "mimetype": "text/x-python",
   "name": "python",
   "nbconvert_exporter": "python",
   "pygments_lexer": "ipython3",
   "version": "3.10.6"
  }
 },
 "nbformat": 4,
 "nbformat_minor": 5
}
